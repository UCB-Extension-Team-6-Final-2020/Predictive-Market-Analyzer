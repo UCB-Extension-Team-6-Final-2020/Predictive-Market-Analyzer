{
 "cells": [
  {
   "cell_type": "code",
   "execution_count": 79,
   "metadata": {},
   "outputs": [],
   "source": [
    "# Import our dependencies\n",
    "from sklearn.ensemble import RandomForestClassifier\n",
    "from sklearn.model_selection import train_test_split\n",
    "from sklearn.preprocessing import StandardScaler,OneHotEncoder\n",
    "from sklearn.metrics import confusion_matrix, accuracy_score, classification_report\n",
    "import pandas as pd\n",
    "import matplotlib as plt\n",
    "import tensorflow as tf"
   ]
  },
  {
   "cell_type": "code",
   "execution_count": 85,
   "metadata": {
    "scrolled": true
   },
   "outputs": [
    {
     "data": {
      "text/html": [
       "<div>\n",
       "<style scoped>\n",
       "    .dataframe tbody tr th:only-of-type {\n",
       "        vertical-align: middle;\n",
       "    }\n",
       "\n",
       "    .dataframe tbody tr th {\n",
       "        vertical-align: top;\n",
       "    }\n",
       "\n",
       "    .dataframe thead th {\n",
       "        text-align: right;\n",
       "    }\n",
       "</style>\n",
       "<table border=\"1\" class=\"dataframe\">\n",
       "  <thead>\n",
       "    <tr style=\"text-align: right;\">\n",
       "      <th></th>\n",
       "      <th>datefield</th>\n",
       "      <th>recession_indicator</th>\n",
       "      <th>country</th>\n",
       "      <th>spy_open</th>\n",
       "      <th>spy_high</th>\n",
       "      <th>spy_low</th>\n",
       "      <th>spy_close</th>\n",
       "      <th>spx_open</th>\n",
       "      <th>spx_high</th>\n",
       "      <th>spx_low</th>\n",
       "      <th>spx_close</th>\n",
       "      <th>dji_open</th>\n",
       "      <th>dji_high</th>\n",
       "      <th>dji_low</th>\n",
       "      <th>dji_close</th>\n",
       "      <th>cpi</th>\n",
       "      <th>gdp</th>\n",
       "      <th>inflation</th>\n",
       "      <th>unemployment</th>\n",
       "    </tr>\n",
       "  </thead>\n",
       "  <tbody>\n",
       "    <tr>\n",
       "      <th>0</th>\n",
       "      <td>12/31/19</td>\n",
       "      <td>t</td>\n",
       "      <td>us</td>\n",
       "      <td>320.53</td>\n",
       "      <td>322.13</td>\n",
       "      <td>320.15</td>\n",
       "      <td>321.86</td>\n",
       "      <td>3215.18</td>\n",
       "      <td>3231.72</td>\n",
       "      <td>3212.03</td>\n",
       "      <td>3230.78</td>\n",
       "      <td>28414.64</td>\n",
       "      <td>28547.35</td>\n",
       "      <td>28376.49</td>\n",
       "      <td>28538.44</td>\n",
       "      <td>0.0</td>\n",
       "      <td>0.0</td>\n",
       "      <td>0.0</td>\n",
       "      <td>0.0</td>\n",
       "    </tr>\n",
       "    <tr>\n",
       "      <th>1</th>\n",
       "      <td>12/30/19</td>\n",
       "      <td>t</td>\n",
       "      <td>us</td>\n",
       "      <td>322.95</td>\n",
       "      <td>323.10</td>\n",
       "      <td>320.55</td>\n",
       "      <td>321.08</td>\n",
       "      <td>3240.09</td>\n",
       "      <td>3240.92</td>\n",
       "      <td>3216.57</td>\n",
       "      <td>3221.29</td>\n",
       "      <td>28654.76</td>\n",
       "      <td>28664.69</td>\n",
       "      <td>28428.98</td>\n",
       "      <td>28462.14</td>\n",
       "      <td>0.0</td>\n",
       "      <td>0.0</td>\n",
       "      <td>0.0</td>\n",
       "      <td>0.0</td>\n",
       "    </tr>\n",
       "    <tr>\n",
       "      <th>2</th>\n",
       "      <td>12/27/19</td>\n",
       "      <td>t</td>\n",
       "      <td>us</td>\n",
       "      <td>323.74</td>\n",
       "      <td>323.80</td>\n",
       "      <td>322.28</td>\n",
       "      <td>322.86</td>\n",
       "      <td>3247.23</td>\n",
       "      <td>3247.93</td>\n",
       "      <td>3234.37</td>\n",
       "      <td>3240.02</td>\n",
       "      <td>28675.34</td>\n",
       "      <td>28701.66</td>\n",
       "      <td>28608.98</td>\n",
       "      <td>28645.26</td>\n",
       "      <td>0.0</td>\n",
       "      <td>0.0</td>\n",
       "      <td>0.0</td>\n",
       "      <td>0.0</td>\n",
       "    </tr>\n",
       "    <tr>\n",
       "      <th>3</th>\n",
       "      <td>12/26/19</td>\n",
       "      <td>t</td>\n",
       "      <td>us</td>\n",
       "      <td>321.65</td>\n",
       "      <td>322.95</td>\n",
       "      <td>321.64</td>\n",
       "      <td>322.94</td>\n",
       "      <td>3227.20</td>\n",
       "      <td>3240.08</td>\n",
       "      <td>3227.20</td>\n",
       "      <td>3239.91</td>\n",
       "      <td>28539.46</td>\n",
       "      <td>28624.10</td>\n",
       "      <td>28535.15</td>\n",
       "      <td>28621.39</td>\n",
       "      <td>0.0</td>\n",
       "      <td>0.0</td>\n",
       "      <td>0.0</td>\n",
       "      <td>0.0</td>\n",
       "    </tr>\n",
       "    <tr>\n",
       "      <th>4</th>\n",
       "      <td>12/24/19</td>\n",
       "      <td>t</td>\n",
       "      <td>us</td>\n",
       "      <td>321.47</td>\n",
       "      <td>321.52</td>\n",
       "      <td>320.90</td>\n",
       "      <td>321.23</td>\n",
       "      <td>3225.45</td>\n",
       "      <td>3226.43</td>\n",
       "      <td>3220.51</td>\n",
       "      <td>3223.38</td>\n",
       "      <td>28572.57</td>\n",
       "      <td>28576.80</td>\n",
       "      <td>28503.21</td>\n",
       "      <td>28515.45</td>\n",
       "      <td>0.0</td>\n",
       "      <td>0.0</td>\n",
       "      <td>0.0</td>\n",
       "      <td>0.0</td>\n",
       "    </tr>\n",
       "  </tbody>\n",
       "</table>\n",
       "</div>"
      ],
      "text/plain": [
       "  datefield recession_indicator country  spy_open  spy_high  spy_low  \\\n",
       "0  12/31/19                   t      us    320.53    322.13   320.15   \n",
       "1  12/30/19                   t      us    322.95    323.10   320.55   \n",
       "2  12/27/19                   t      us    323.74    323.80   322.28   \n",
       "3  12/26/19                   t      us    321.65    322.95   321.64   \n",
       "4  12/24/19                   t      us    321.47    321.52   320.90   \n",
       "\n",
       "   spy_close  spx_open  spx_high  spx_low  spx_close  dji_open  dji_high  \\\n",
       "0     321.86   3215.18   3231.72  3212.03    3230.78  28414.64  28547.35   \n",
       "1     321.08   3240.09   3240.92  3216.57    3221.29  28654.76  28664.69   \n",
       "2     322.86   3247.23   3247.93  3234.37    3240.02  28675.34  28701.66   \n",
       "3     322.94   3227.20   3240.08  3227.20    3239.91  28539.46  28624.10   \n",
       "4     321.23   3225.45   3226.43  3220.51    3223.38  28572.57  28576.80   \n",
       "\n",
       "    dji_low  dji_close  cpi  gdp  inflation  unemployment  \n",
       "0  28376.49   28538.44  0.0  0.0        0.0           0.0  \n",
       "1  28428.98   28462.14  0.0  0.0        0.0           0.0  \n",
       "2  28608.98   28645.26  0.0  0.0        0.0           0.0  \n",
       "3  28535.15   28621.39  0.0  0.0        0.0           0.0  \n",
       "4  28503.21   28515.45  0.0  0.0        0.0           0.0  "
      ]
     },
     "execution_count": 85,
     "metadata": {},
     "output_type": "execute_result"
    }
   ],
   "source": [
    "# Import our input dataset\n",
    "data_df = pd.read_csv('us_data_df.csv')\n",
    "# Fill in the empty rows with \"0\". (4.5.2)\n",
    "data_df.fillna(0)\n",
    "#data_df.dropna()\n",
    "data_df.head()"
   ]
  },
  {
   "cell_type": "code",
   "execution_count": 86,
   "metadata": {},
   "outputs": [
    {
     "data": {
      "text/plain": [
       "datefield               object\n",
       "recession_indicator     object\n",
       "country                 object\n",
       "spy_open               float64\n",
       "spy_high               float64\n",
       "spy_low                float64\n",
       "spy_close              float64\n",
       "spx_open               float64\n",
       "spx_high               float64\n",
       "spx_low                float64\n",
       "spx_close              float64\n",
       "dji_open               float64\n",
       "dji_high               float64\n",
       "dji_low                float64\n",
       "dji_close              float64\n",
       "cpi                    float64\n",
       "gdp                    float64\n",
       "inflation              float64\n",
       "unemployment           float64\n",
       "dtype: object"
      ]
     },
     "execution_count": 86,
     "metadata": {},
     "output_type": "execute_result"
    }
   ],
   "source": [
    "data_df.dtypes"
   ]
  },
  {
   "cell_type": "code",
   "execution_count": 87,
   "metadata": {},
   "outputs": [],
   "source": [
    "# Put the student names in a list.\n",
    "#spx_open = data_df[\"spx_open\"].tolist()\n",
    "# strpe sapce: https://www.geeksforgeeks.org/python-pandas-series-str-strip-lstrip-and-rstrip/\n",
    "#data_df['spx_high'] = data_df['spx_high'].str.rstrip()"
   ]
  },
  {
   "cell_type": "code",
   "execution_count": 88,
   "metadata": {},
   "outputs": [],
   "source": [
    "# convert to float\n",
    "#data_df['datefield'] = data_df['datefield'].astype(float)"
   ]
  },
  {
   "cell_type": "code",
   "execution_count": 89,
   "metadata": {},
   "outputs": [
    {
     "data": {
      "text/html": [
       "<div>\n",
       "<style scoped>\n",
       "    .dataframe tbody tr th:only-of-type {\n",
       "        vertical-align: middle;\n",
       "    }\n",
       "\n",
       "    .dataframe tbody tr th {\n",
       "        vertical-align: top;\n",
       "    }\n",
       "\n",
       "    .dataframe thead th {\n",
       "        text-align: right;\n",
       "    }\n",
       "</style>\n",
       "<table border=\"1\" class=\"dataframe\">\n",
       "  <thead>\n",
       "    <tr style=\"text-align: right;\">\n",
       "      <th></th>\n",
       "      <th>spy_open</th>\n",
       "      <th>spy_high</th>\n",
       "      <th>spy_low</th>\n",
       "      <th>spy_close</th>\n",
       "      <th>spx_open</th>\n",
       "      <th>spx_high</th>\n",
       "      <th>spx_low</th>\n",
       "      <th>spx_close</th>\n",
       "      <th>dji_open</th>\n",
       "      <th>dji_high</th>\n",
       "      <th>dji_low</th>\n",
       "      <th>dji_close</th>\n",
       "      <th>cpi</th>\n",
       "      <th>gdp</th>\n",
       "      <th>inflation</th>\n",
       "      <th>unemployment</th>\n",
       "    </tr>\n",
       "  </thead>\n",
       "  <tbody>\n",
       "    <tr>\n",
       "      <th>0</th>\n",
       "      <td>320.53</td>\n",
       "      <td>322.13</td>\n",
       "      <td>320.15</td>\n",
       "      <td>321.86</td>\n",
       "      <td>3215.18</td>\n",
       "      <td>3231.72</td>\n",
       "      <td>3212.03</td>\n",
       "      <td>3230.78</td>\n",
       "      <td>28414.64</td>\n",
       "      <td>28547.35</td>\n",
       "      <td>28376.49</td>\n",
       "      <td>28538.44</td>\n",
       "      <td>0.0</td>\n",
       "      <td>0.0</td>\n",
       "      <td>0.0</td>\n",
       "      <td>0.0</td>\n",
       "    </tr>\n",
       "    <tr>\n",
       "      <th>1</th>\n",
       "      <td>322.95</td>\n",
       "      <td>323.10</td>\n",
       "      <td>320.55</td>\n",
       "      <td>321.08</td>\n",
       "      <td>3240.09</td>\n",
       "      <td>3240.92</td>\n",
       "      <td>3216.57</td>\n",
       "      <td>3221.29</td>\n",
       "      <td>28654.76</td>\n",
       "      <td>28664.69</td>\n",
       "      <td>28428.98</td>\n",
       "      <td>28462.14</td>\n",
       "      <td>0.0</td>\n",
       "      <td>0.0</td>\n",
       "      <td>0.0</td>\n",
       "      <td>0.0</td>\n",
       "    </tr>\n",
       "    <tr>\n",
       "      <th>2</th>\n",
       "      <td>323.74</td>\n",
       "      <td>323.80</td>\n",
       "      <td>322.28</td>\n",
       "      <td>322.86</td>\n",
       "      <td>3247.23</td>\n",
       "      <td>3247.93</td>\n",
       "      <td>3234.37</td>\n",
       "      <td>3240.02</td>\n",
       "      <td>28675.34</td>\n",
       "      <td>28701.66</td>\n",
       "      <td>28608.98</td>\n",
       "      <td>28645.26</td>\n",
       "      <td>0.0</td>\n",
       "      <td>0.0</td>\n",
       "      <td>0.0</td>\n",
       "      <td>0.0</td>\n",
       "    </tr>\n",
       "    <tr>\n",
       "      <th>3</th>\n",
       "      <td>321.65</td>\n",
       "      <td>322.95</td>\n",
       "      <td>321.64</td>\n",
       "      <td>322.94</td>\n",
       "      <td>3227.20</td>\n",
       "      <td>3240.08</td>\n",
       "      <td>3227.20</td>\n",
       "      <td>3239.91</td>\n",
       "      <td>28539.46</td>\n",
       "      <td>28624.10</td>\n",
       "      <td>28535.15</td>\n",
       "      <td>28621.39</td>\n",
       "      <td>0.0</td>\n",
       "      <td>0.0</td>\n",
       "      <td>0.0</td>\n",
       "      <td>0.0</td>\n",
       "    </tr>\n",
       "    <tr>\n",
       "      <th>4</th>\n",
       "      <td>321.47</td>\n",
       "      <td>321.52</td>\n",
       "      <td>320.90</td>\n",
       "      <td>321.23</td>\n",
       "      <td>3225.45</td>\n",
       "      <td>3226.43</td>\n",
       "      <td>3220.51</td>\n",
       "      <td>3223.38</td>\n",
       "      <td>28572.57</td>\n",
       "      <td>28576.80</td>\n",
       "      <td>28503.21</td>\n",
       "      <td>28515.45</td>\n",
       "      <td>0.0</td>\n",
       "      <td>0.0</td>\n",
       "      <td>0.0</td>\n",
       "      <td>0.0</td>\n",
       "    </tr>\n",
       "  </tbody>\n",
       "</table>\n",
       "</div>"
      ],
      "text/plain": [
       "   spy_open  spy_high  spy_low  spy_close  spx_open  spx_high  spx_low  \\\n",
       "0    320.53    322.13   320.15     321.86   3215.18   3231.72  3212.03   \n",
       "1    322.95    323.10   320.55     321.08   3240.09   3240.92  3216.57   \n",
       "2    323.74    323.80   322.28     322.86   3247.23   3247.93  3234.37   \n",
       "3    321.65    322.95   321.64     322.94   3227.20   3240.08  3227.20   \n",
       "4    321.47    321.52   320.90     321.23   3225.45   3226.43  3220.51   \n",
       "\n",
       "   spx_close  dji_open  dji_high   dji_low  dji_close  cpi  gdp  inflation  \\\n",
       "0    3230.78  28414.64  28547.35  28376.49   28538.44  0.0  0.0        0.0   \n",
       "1    3221.29  28654.76  28664.69  28428.98   28462.14  0.0  0.0        0.0   \n",
       "2    3240.02  28675.34  28701.66  28608.98   28645.26  0.0  0.0        0.0   \n",
       "3    3239.91  28539.46  28624.10  28535.15   28621.39  0.0  0.0        0.0   \n",
       "4    3223.38  28572.57  28576.80  28503.21   28515.45  0.0  0.0        0.0   \n",
       "\n",
       "   unemployment  \n",
       "0           0.0  \n",
       "1           0.0  \n",
       "2           0.0  \n",
       "3           0.0  \n",
       "4           0.0  "
      ]
     },
     "execution_count": 89,
     "metadata": {},
     "output_type": "execute_result"
    }
   ],
   "source": [
    "# Define the features set.\n",
    "X = data_df.copy()\n",
    "X = X.drop({\"recession_indicator\",\"country\",\"datefield\"}, axis=1)\n",
    "\n",
    "# Fill in the empty rows with \"0\". (4.5.2)\n",
    "X.fillna(0)\n",
    "X.head()"
   ]
  },
  {
   "cell_type": "code",
   "execution_count": 90,
   "metadata": {},
   "outputs": [
    {
     "data": {
      "text/plain": [
       "array(['t', 't', 't', 't', 't'], dtype=object)"
      ]
     },
     "execution_count": 90,
     "metadata": {},
     "output_type": "execute_result"
    }
   ],
   "source": [
    "# Define the target set.\n",
    "y = data_df[\"recession_indicator\"].ravel()\n",
    "y[:5]"
   ]
  },
  {
   "cell_type": "code",
   "execution_count": 91,
   "metadata": {},
   "outputs": [],
   "source": [
    "# Splitting into Train and Test sets. (17.8.2)\n",
    "X_train, X_test, y_train, y_test = train_test_split(X, y, random_state=78)"
   ]
  },
  {
   "cell_type": "code",
   "execution_count": 92,
   "metadata": {},
   "outputs": [],
   "source": [
    "# Creating a StandardScaler instance.\n",
    "scaler = StandardScaler()\n",
    "# Fitting the Standard Scaler with the training data.\n",
    "X_scaler = scaler.fit(X_train)\n",
    "\n",
    "# Scaling the data.\n",
    "X_train_scaled = X_scaler.transform(X_train)\n",
    "X_test_scaled = X_scaler.transform(X_test)"
   ]
  },
  {
   "cell_type": "code",
   "execution_count": 93,
   "metadata": {},
   "outputs": [],
   "source": [
    "# Create a random forest classifier. (17.8.3)\n",
    "rf_model = RandomForestClassifier(n_estimators=128, random_state=78) \n",
    "\n",
    "# Fitting the model\n",
    "rf_model = rf_model.fit(X_train_scaled, y_train)\n",
    "\n",
    "# Making predictions using the testing data.\n",
    "predictions = rf_model.predict(X_test_scaled)"
   ]
  },
  {
   "cell_type": "code",
   "execution_count": 94,
   "metadata": {},
   "outputs": [
    {
     "data": {
      "text/html": [
       "<div>\n",
       "<style scoped>\n",
       "    .dataframe tbody tr th:only-of-type {\n",
       "        vertical-align: middle;\n",
       "    }\n",
       "\n",
       "    .dataframe tbody tr th {\n",
       "        vertical-align: top;\n",
       "    }\n",
       "\n",
       "    .dataframe thead th {\n",
       "        text-align: right;\n",
       "    }\n",
       "</style>\n",
       "<table border=\"1\" class=\"dataframe\">\n",
       "  <thead>\n",
       "    <tr style=\"text-align: right;\">\n",
       "      <th></th>\n",
       "      <th>Predicted 0</th>\n",
       "      <th>Predicted 1</th>\n",
       "    </tr>\n",
       "  </thead>\n",
       "  <tbody>\n",
       "    <tr>\n",
       "      <th>Actual 0</th>\n",
       "      <td>2317</td>\n",
       "      <td>157</td>\n",
       "    </tr>\n",
       "    <tr>\n",
       "      <th>Actual 1</th>\n",
       "      <td>888</td>\n",
       "      <td>1204</td>\n",
       "    </tr>\n",
       "  </tbody>\n",
       "</table>\n",
       "</div>"
      ],
      "text/plain": [
       "          Predicted 0  Predicted 1\n",
       "Actual 0         2317          157\n",
       "Actual 1          888         1204"
      ]
     },
     "execution_count": 94,
     "metadata": {},
     "output_type": "execute_result"
    }
   ],
   "source": [
    "# Calculating the confusion matrix.\n",
    "cm = confusion_matrix(y_test, predictions)\n",
    "\n",
    "# Create a DataFrame from the confusion matrix.\n",
    "cm_df = pd.DataFrame(\n",
    "    cm, index=[\"Actual 0\", \"Actual 1\"], columns=[\"Predicted 0\", \"Predicted 1\"])\n",
    "\n",
    "cm_df"
   ]
  },
  {
   "cell_type": "code",
   "execution_count": 95,
   "metadata": {},
   "outputs": [
    {
     "name": "stdout",
     "output_type": "stream",
     "text": [
      "Confusion Matrix\n"
     ]
    },
    {
     "data": {
      "text/html": [
       "<div>\n",
       "<style scoped>\n",
       "    .dataframe tbody tr th:only-of-type {\n",
       "        vertical-align: middle;\n",
       "    }\n",
       "\n",
       "    .dataframe tbody tr th {\n",
       "        vertical-align: top;\n",
       "    }\n",
       "\n",
       "    .dataframe thead th {\n",
       "        text-align: right;\n",
       "    }\n",
       "</style>\n",
       "<table border=\"1\" class=\"dataframe\">\n",
       "  <thead>\n",
       "    <tr style=\"text-align: right;\">\n",
       "      <th></th>\n",
       "      <th>Predicted 0</th>\n",
       "      <th>Predicted 1</th>\n",
       "    </tr>\n",
       "  </thead>\n",
       "  <tbody>\n",
       "    <tr>\n",
       "      <th>Actual 0</th>\n",
       "      <td>2317</td>\n",
       "      <td>157</td>\n",
       "    </tr>\n",
       "    <tr>\n",
       "      <th>Actual 1</th>\n",
       "      <td>888</td>\n",
       "      <td>1204</td>\n",
       "    </tr>\n",
       "  </tbody>\n",
       "</table>\n",
       "</div>"
      ],
      "text/plain": [
       "          Predicted 0  Predicted 1\n",
       "Actual 0         2317          157\n",
       "Actual 1          888         1204"
      ]
     },
     "metadata": {},
     "output_type": "display_data"
    },
    {
     "name": "stdout",
     "output_type": "stream",
     "text": [
      "Accuracy Score : 0.7711344721857205\n",
      "Classification Report\n",
      "              precision    recall  f1-score   support\n",
      "\n",
      "           f       0.72      0.94      0.82      2474\n",
      "           t       0.88      0.58      0.70      2092\n",
      "\n",
      "    accuracy                           0.77      4566\n",
      "   macro avg       0.80      0.76      0.76      4566\n",
      "weighted avg       0.80      0.77      0.76      4566\n",
      "\n"
     ]
    }
   ],
   "source": [
    "# Calculating the accuracy score.\n",
    "acc_score = accuracy_score(y_test, predictions)\n",
    "\n",
    "# Displaying results\n",
    "print(\"Confusion Matrix\")\n",
    "display(cm_df)\n",
    "print(f\"Accuracy Score : {acc_score}\")\n",
    "print(\"Classification Report\")\n",
    "print(classification_report(y_test, predictions))"
   ]
  },
  {
   "cell_type": "code",
   "execution_count": 96,
   "metadata": {},
   "outputs": [
    {
     "data": {
      "text/plain": [
       "[(0.13156301614329016, 'dji_low'),\n",
       " (0.12626176271232933, 'dji_high'),\n",
       " (0.12032181240783534, 'dji_close'),\n",
       " (0.1183465544264336, 'dji_open'),\n",
       " (0.09271252277988079, 'spx_low'),\n",
       " (0.07998611906557211, 'spx_close'),\n",
       " (0.07717430124370407, 'spx_high'),\n",
       " (0.07642473124067437, 'spx_open'),\n",
       " (0.04521419947603081, 'spy_high'),\n",
       " (0.03751371442013806, 'spy_open'),\n",
       " (0.036155770610265786, 'spy_close'),\n",
       " (0.03591727842398066, 'spy_low'),\n",
       " (0.009810421763294743, 'cpi'),\n",
       " (0.007596953349236815, 'unemployment'),\n",
       " (0.0038314771994378267, 'gdp'),\n",
       " (0.0011693647378954609, 'inflation')]"
      ]
     },
     "execution_count": 96,
     "metadata": {},
     "output_type": "execute_result"
    }
   ],
   "source": [
    "# Calculate feature importance in the Random Forest model.\n",
    "importances = rf_model.feature_importances_\n",
    "\n",
    "# We can sort the features by their importance.\n",
    "sorted(zip(rf_model.feature_importances_, X.columns), reverse=True)"
   ]
  },
  {
   "cell_type": "code",
   "execution_count": null,
   "metadata": {},
   "outputs": [],
   "source": []
  },
  {
   "cell_type": "code",
   "execution_count": null,
   "metadata": {},
   "outputs": [],
   "source": []
  },
  {
   "cell_type": "code",
   "execution_count": null,
   "metadata": {},
   "outputs": [],
   "source": []
  },
  {
   "cell_type": "code",
   "execution_count": 2,
   "metadata": {},
   "outputs": [
    {
     "data": {
      "text/html": [
       "<div>\n",
       "<style scoped>\n",
       "    .dataframe tbody tr th:only-of-type {\n",
       "        vertical-align: middle;\n",
       "    }\n",
       "\n",
       "    .dataframe tbody tr th {\n",
       "        vertical-align: top;\n",
       "    }\n",
       "\n",
       "    .dataframe thead th {\n",
       "        text-align: right;\n",
       "    }\n",
       "</style>\n",
       "<table border=\"1\" class=\"dataframe\">\n",
       "  <thead>\n",
       "    <tr style=\"text-align: right;\">\n",
       "      <th></th>\n",
       "      <th>DATE</th>\n",
       "      <th>DEUCPIALLMINMEI</th>\n",
       "      <th>country</th>\n",
       "    </tr>\n",
       "  </thead>\n",
       "  <tbody>\n",
       "    <tr>\n",
       "      <th>0</th>\n",
       "      <td>21916</td>\n",
       "      <td>22.963732</td>\n",
       "      <td>DE</td>\n",
       "    </tr>\n",
       "    <tr>\n",
       "      <th>1</th>\n",
       "      <td>21947</td>\n",
       "      <td>22.833256</td>\n",
       "      <td>DE</td>\n",
       "    </tr>\n",
       "    <tr>\n",
       "      <th>2</th>\n",
       "      <td>21976</td>\n",
       "      <td>22.833256</td>\n",
       "      <td>DE</td>\n",
       "    </tr>\n",
       "    <tr>\n",
       "      <th>3</th>\n",
       "      <td>22007</td>\n",
       "      <td>22.963732</td>\n",
       "      <td>DE</td>\n",
       "    </tr>\n",
       "    <tr>\n",
       "      <th>4</th>\n",
       "      <td>22037</td>\n",
       "      <td>23.028970</td>\n",
       "      <td>DE</td>\n",
       "    </tr>\n",
       "  </tbody>\n",
       "</table>\n",
       "</div>"
      ],
      "text/plain": [
       "    DATE  DEUCPIALLMINMEI country\n",
       "0  21916        22.963732      DE\n",
       "1  21947        22.833256      DE\n",
       "2  21976        22.833256      DE\n",
       "3  22007        22.963732      DE\n",
       "4  22037        23.028970      DE"
      ]
     },
     "execution_count": 2,
     "metadata": {},
     "output_type": "execute_result"
    }
   ],
   "source": [
    "# Import our input dataset\n",
    "df = pd.read_csv('DE-CPI.csv')\n",
    "df.head()"
   ]
  },
  {
   "cell_type": "code",
   "execution_count": 6,
   "metadata": {},
   "outputs": [
    {
     "data": {
      "text/plain": [
       "DATE                 int64\n",
       "DEUCPIALLMINMEI    float64\n",
       "country             object\n",
       "dtype: object"
      ]
     },
     "execution_count": 6,
     "metadata": {},
     "output_type": "execute_result"
    }
   ],
   "source": [
    "df.dtypes"
   ]
  },
  {
   "cell_type": "code",
   "execution_count": 3,
   "metadata": {},
   "outputs": [
    {
     "data": {
      "text/html": [
       "<div>\n",
       "<style scoped>\n",
       "    .dataframe tbody tr th:only-of-type {\n",
       "        vertical-align: middle;\n",
       "    }\n",
       "\n",
       "    .dataframe tbody tr th {\n",
       "        vertical-align: top;\n",
       "    }\n",
       "\n",
       "    .dataframe thead th {\n",
       "        text-align: right;\n",
       "    }\n",
       "</style>\n",
       "<table border=\"1\" class=\"dataframe\">\n",
       "  <thead>\n",
       "    <tr style=\"text-align: right;\">\n",
       "      <th></th>\n",
       "      <th>DATE</th>\n",
       "      <th>MKTGDPDEA646NWDB</th>\n",
       "    </tr>\n",
       "  </thead>\n",
       "  <tbody>\n",
       "    <tr>\n",
       "      <th>0</th>\n",
       "      <td>1970-01-01</td>\n",
       "      <td>2.158384e+11</td>\n",
       "    </tr>\n",
       "    <tr>\n",
       "      <th>1</th>\n",
       "      <td>1971-01-01</td>\n",
       "      <td>2.499851e+11</td>\n",
       "    </tr>\n",
       "    <tr>\n",
       "      <th>2</th>\n",
       "      <td>1972-01-01</td>\n",
       "      <td>2.998015e+11</td>\n",
       "    </tr>\n",
       "    <tr>\n",
       "      <th>3</th>\n",
       "      <td>1973-01-01</td>\n",
       "      <td>3.983740e+11</td>\n",
       "    </tr>\n",
       "    <tr>\n",
       "      <th>4</th>\n",
       "      <td>1974-01-01</td>\n",
       "      <td>4.453035e+11</td>\n",
       "    </tr>\n",
       "  </tbody>\n",
       "</table>\n",
       "</div>"
      ],
      "text/plain": [
       "         DATE  MKTGDPDEA646NWDB\n",
       "0  1970-01-01      2.158384e+11\n",
       "1  1971-01-01      2.499851e+11\n",
       "2  1972-01-01      2.998015e+11\n",
       "3  1973-01-01      3.983740e+11\n",
       "4  1974-01-01      4.453035e+11"
      ]
     },
     "execution_count": 3,
     "metadata": {},
     "output_type": "execute_result"
    }
   ],
   "source": [
    "# Import our input dataset\n",
    "df2 = pd.read_csv('DE-GDP.csv')\n",
    "df2.head()"
   ]
  },
  {
   "cell_type": "code",
   "execution_count": 7,
   "metadata": {},
   "outputs": [
    {
     "data": {
      "text/plain": [
       "DATE                 object\n",
       "MKTGDPDEA646NWDB    float64\n",
       "dtype: object"
      ]
     },
     "execution_count": 7,
     "metadata": {},
     "output_type": "execute_result"
    }
   ],
   "source": [
    "df2.dtypes"
   ]
  },
  {
   "cell_type": "code",
   "execution_count": 19,
   "metadata": {},
   "outputs": [
    {
     "data": {
      "text/html": [
       "<div>\n",
       "<style scoped>\n",
       "    .dataframe tbody tr th:only-of-type {\n",
       "        vertical-align: middle;\n",
       "    }\n",
       "\n",
       "    .dataframe tbody tr th {\n",
       "        vertical-align: top;\n",
       "    }\n",
       "\n",
       "    .dataframe thead th {\n",
       "        text-align: right;\n",
       "    }\n",
       "</style>\n",
       "<table border=\"1\" class=\"dataframe\">\n",
       "  <thead>\n",
       "    <tr style=\"text-align: right;\">\n",
       "      <th></th>\n",
       "      <th>DATE</th>\n",
       "      <th>Inflation</th>\n",
       "      <th>country</th>\n",
       "    </tr>\n",
       "  </thead>\n",
       "  <tbody>\n",
       "    <tr>\n",
       "      <th>0</th>\n",
       "      <td>25569</td>\n",
       "      <td>3.450242</td>\n",
       "      <td>DE</td>\n",
       "    </tr>\n",
       "    <tr>\n",
       "      <th>1</th>\n",
       "      <td>25934</td>\n",
       "      <td>5.240974</td>\n",
       "      <td>DE</td>\n",
       "    </tr>\n",
       "    <tr>\n",
       "      <th>2</th>\n",
       "      <td>26299</td>\n",
       "      <td>5.484937</td>\n",
       "      <td>DE</td>\n",
       "    </tr>\n",
       "    <tr>\n",
       "      <th>3</th>\n",
       "      <td>26665</td>\n",
       "      <td>7.032026</td>\n",
       "      <td>DE</td>\n",
       "    </tr>\n",
       "    <tr>\n",
       "      <th>4</th>\n",
       "      <td>27030</td>\n",
       "      <td>6.986432</td>\n",
       "      <td>DE</td>\n",
       "    </tr>\n",
       "  </tbody>\n",
       "</table>\n",
       "</div>"
      ],
      "text/plain": [
       "    DATE  Inflation country\n",
       "0  25569   3.450242      DE\n",
       "1  25934   5.240974      DE\n",
       "2  26299   5.484937      DE\n",
       "3  26665   7.032026      DE\n",
       "4  27030   6.986432      DE"
      ]
     },
     "execution_count": 19,
     "metadata": {},
     "output_type": "execute_result"
    }
   ],
   "source": [
    "# Import our input dataset\n",
    "inflationDE_df = pd.read_csv('DE-Inflation.csv')\n",
    "inflationDE_df.rename(columns = {'FPCPITOTLZGDEU': 'Inflation'}, inplace = True)\n",
    "inflationDE_df.head()"
   ]
  },
  {
   "cell_type": "code",
   "execution_count": 20,
   "metadata": {},
   "outputs": [
    {
     "data": {
      "text/html": [
       "<div>\n",
       "<style scoped>\n",
       "    .dataframe tbody tr th:only-of-type {\n",
       "        vertical-align: middle;\n",
       "    }\n",
       "\n",
       "    .dataframe tbody tr th {\n",
       "        vertical-align: top;\n",
       "    }\n",
       "\n",
       "    .dataframe thead th {\n",
       "        text-align: right;\n",
       "    }\n",
       "</style>\n",
       "<table border=\"1\" class=\"dataframe\">\n",
       "  <thead>\n",
       "    <tr style=\"text-align: right;\">\n",
       "      <th></th>\n",
       "      <th>DATE</th>\n",
       "      <th>Unemployment</th>\n",
       "    </tr>\n",
       "  </thead>\n",
       "  <tbody>\n",
       "    <tr>\n",
       "      <th>0</th>\n",
       "      <td>25569</td>\n",
       "      <td>0.5</td>\n",
       "    </tr>\n",
       "    <tr>\n",
       "      <th>1</th>\n",
       "      <td>25600</td>\n",
       "      <td>0.5</td>\n",
       "    </tr>\n",
       "    <tr>\n",
       "      <th>2</th>\n",
       "      <td>25628</td>\n",
       "      <td>0.6</td>\n",
       "    </tr>\n",
       "    <tr>\n",
       "      <th>3</th>\n",
       "      <td>25659</td>\n",
       "      <td>0.5</td>\n",
       "    </tr>\n",
       "    <tr>\n",
       "      <th>4</th>\n",
       "      <td>25689</td>\n",
       "      <td>0.6</td>\n",
       "    </tr>\n",
       "  </tbody>\n",
       "</table>\n",
       "</div>"
      ],
      "text/plain": [
       "    DATE  Unemployment\n",
       "0  25569           0.5\n",
       "1  25600           0.5\n",
       "2  25628           0.6\n",
       "3  25659           0.5\n",
       "4  25689           0.6"
      ]
     },
     "execution_count": 20,
     "metadata": {},
     "output_type": "execute_result"
    }
   ],
   "source": [
    "# Import our input dataset\n",
    "unemploymentDE_df = pd.read_csv('DE-Unemployment.csv')\n",
    "unemploymentDE_df  = unemploymentDE_df .drop('country', axis=1)\n",
    "unemploymentDE_df.rename(columns = {'LMUNRRTTDEM156S': 'Unemployment'}, inplace = True)\n",
    "unemploymentDE_df.head()"
   ]
  },
  {
   "cell_type": "code",
   "execution_count": 21,
   "metadata": {},
   "outputs": [
    {
     "data": {
      "text/html": [
       "<div>\n",
       "<style scoped>\n",
       "    .dataframe tbody tr th:only-of-type {\n",
       "        vertical-align: middle;\n",
       "    }\n",
       "\n",
       "    .dataframe tbody tr th {\n",
       "        vertical-align: top;\n",
       "    }\n",
       "\n",
       "    .dataframe thead th {\n",
       "        text-align: right;\n",
       "    }\n",
       "</style>\n",
       "<table border=\"1\" class=\"dataframe\">\n",
       "  <thead>\n",
       "    <tr style=\"text-align: right;\">\n",
       "      <th></th>\n",
       "      <th>DATE</th>\n",
       "      <th>Unemployment</th>\n",
       "      <th>Inflation</th>\n",
       "      <th>country</th>\n",
       "    </tr>\n",
       "  </thead>\n",
       "  <tbody>\n",
       "    <tr>\n",
       "      <th>0</th>\n",
       "      <td>25569</td>\n",
       "      <td>0.5</td>\n",
       "      <td>3.450242</td>\n",
       "      <td>DE</td>\n",
       "    </tr>\n",
       "    <tr>\n",
       "      <th>1</th>\n",
       "      <td>25600</td>\n",
       "      <td>0.5</td>\n",
       "      <td>NaN</td>\n",
       "      <td>NaN</td>\n",
       "    </tr>\n",
       "    <tr>\n",
       "      <th>2</th>\n",
       "      <td>25628</td>\n",
       "      <td>0.6</td>\n",
       "      <td>NaN</td>\n",
       "      <td>NaN</td>\n",
       "    </tr>\n",
       "    <tr>\n",
       "      <th>3</th>\n",
       "      <td>25659</td>\n",
       "      <td>0.5</td>\n",
       "      <td>NaN</td>\n",
       "      <td>NaN</td>\n",
       "    </tr>\n",
       "    <tr>\n",
       "      <th>4</th>\n",
       "      <td>25689</td>\n",
       "      <td>0.6</td>\n",
       "      <td>NaN</td>\n",
       "      <td>NaN</td>\n",
       "    </tr>\n",
       "  </tbody>\n",
       "</table>\n",
       "</div>"
      ],
      "text/plain": [
       "    DATE  Unemployment  Inflation country\n",
       "0  25569           0.5   3.450242      DE\n",
       "1  25600           0.5        NaN     NaN\n",
       "2  25628           0.6        NaN     NaN\n",
       "3  25659           0.5        NaN     NaN\n",
       "4  25689           0.6        NaN     NaN"
      ]
     },
     "execution_count": 21,
     "metadata": {},
     "output_type": "execute_result"
    }
   ],
   "source": [
    "combined1_df = pd.merge(unemploymentDE_df, inflationDE_df, how=\"left\", on=[\"DATE\",\"DATE\"])\n",
    "combined1_df.head()"
   ]
  },
  {
   "cell_type": "code",
   "execution_count": 17,
   "metadata": {},
   "outputs": [
    {
     "data": {
      "text/plain": [
       "NIX    12611\n",
       "DJI    12460\n",
       "SPX    10692\n",
       "UK      8792\n",
       "DAX     8187\n",
       "SHA     6915\n",
       "SPY     5051\n",
       "Name: ticker, dtype: int64"
      ]
     },
     "execution_count": 17,
     "metadata": {},
     "output_type": "execute_result"
    }
   ],
   "source": [
    "df['ticker']=df['ticker'].replace(['UKX'], 'UK')\n",
    "df['ticker']=df['ticker'].replace(['NIX'], 'JP')\n",
    "df['ticker']=df['ticker'].replace(['UKX'], 'UK')\n",
    "df['ticker'].value_counts()"
   ]
  },
  {
   "cell_type": "code",
   "execution_count": 3,
   "metadata": {},
   "outputs": [
    {
     "data": {
      "text/html": [
       "<div>\n",
       "<style scoped>\n",
       "    .dataframe tbody tr th:only-of-type {\n",
       "        vertical-align: middle;\n",
       "    }\n",
       "\n",
       "    .dataframe tbody tr th {\n",
       "        vertical-align: top;\n",
       "    }\n",
       "\n",
       "    .dataframe thead th {\n",
       "        text-align: right;\n",
       "    }\n",
       "</style>\n",
       "<table border=\"1\" class=\"dataframe\">\n",
       "  <thead>\n",
       "    <tr style=\"text-align: right;\">\n",
       "      <th></th>\n",
       "      <th>date</th>\n",
       "      <th>recession_indicator</th>\n",
       "      <th>country</th>\n",
       "    </tr>\n",
       "  </thead>\n",
       "  <tbody>\n",
       "    <tr>\n",
       "      <th>0</th>\n",
       "      <td>28491</td>\n",
       "      <td>t</td>\n",
       "      <td>cn</td>\n",
       "    </tr>\n",
       "    <tr>\n",
       "      <th>1</th>\n",
       "      <td>28492</td>\n",
       "      <td>t</td>\n",
       "      <td>cn</td>\n",
       "    </tr>\n",
       "    <tr>\n",
       "      <th>2</th>\n",
       "      <td>28493</td>\n",
       "      <td>t</td>\n",
       "      <td>cn</td>\n",
       "    </tr>\n",
       "    <tr>\n",
       "      <th>3</th>\n",
       "      <td>28494</td>\n",
       "      <td>t</td>\n",
       "      <td>cn</td>\n",
       "    </tr>\n",
       "    <tr>\n",
       "      <th>4</th>\n",
       "      <td>28495</td>\n",
       "      <td>t</td>\n",
       "      <td>cn</td>\n",
       "    </tr>\n",
       "  </tbody>\n",
       "</table>\n",
       "</div>"
      ],
      "text/plain": [
       "    date recession_indicator country\n",
       "0  28491                   t      cn\n",
       "1  28492                   t      cn\n",
       "2  28493                   t      cn\n",
       "3  28494                   t      cn\n",
       "4  28495                   t      cn"
      ]
     },
     "execution_count": 3,
     "metadata": {},
     "output_type": "execute_result"
    }
   ],
   "source": [
    "# Import our input dataset\n",
    "df2 = pd.read_csv('load_recession_indicator_by_day.csv')\n",
    "df2.head()"
   ]
  },
  {
   "cell_type": "code",
   "execution_count": 4,
   "metadata": {},
   "outputs": [
    {
     "data": {
      "text/html": [
       "<div>\n",
       "<style scoped>\n",
       "    .dataframe tbody tr th:only-of-type {\n",
       "        vertical-align: middle;\n",
       "    }\n",
       "\n",
       "    .dataframe tbody tr th {\n",
       "        vertical-align: top;\n",
       "    }\n",
       "\n",
       "    .dataframe thead th {\n",
       "        text-align: right;\n",
       "    }\n",
       "</style>\n",
       "<table border=\"1\" class=\"dataframe\">\n",
       "  <thead>\n",
       "    <tr style=\"text-align: right;\">\n",
       "      <th></th>\n",
       "      <th>date</th>\n",
       "      <th>country_cn</th>\n",
       "      <th>country_de</th>\n",
       "      <th>country_eu</th>\n",
       "      <th>country_jp</th>\n",
       "      <th>country_uk</th>\n",
       "      <th>country_us</th>\n",
       "    </tr>\n",
       "  </thead>\n",
       "  <tbody>\n",
       "    <tr>\n",
       "      <th>0</th>\n",
       "      <td>28491</td>\n",
       "      <td>1</td>\n",
       "      <td>0</td>\n",
       "      <td>0</td>\n",
       "      <td>0</td>\n",
       "      <td>0</td>\n",
       "      <td>0</td>\n",
       "    </tr>\n",
       "    <tr>\n",
       "      <th>1</th>\n",
       "      <td>28492</td>\n",
       "      <td>1</td>\n",
       "      <td>0</td>\n",
       "      <td>0</td>\n",
       "      <td>0</td>\n",
       "      <td>0</td>\n",
       "      <td>0</td>\n",
       "    </tr>\n",
       "    <tr>\n",
       "      <th>2</th>\n",
       "      <td>28493</td>\n",
       "      <td>1</td>\n",
       "      <td>0</td>\n",
       "      <td>0</td>\n",
       "      <td>0</td>\n",
       "      <td>0</td>\n",
       "      <td>0</td>\n",
       "    </tr>\n",
       "    <tr>\n",
       "      <th>3</th>\n",
       "      <td>28494</td>\n",
       "      <td>1</td>\n",
       "      <td>0</td>\n",
       "      <td>0</td>\n",
       "      <td>0</td>\n",
       "      <td>0</td>\n",
       "      <td>0</td>\n",
       "    </tr>\n",
       "    <tr>\n",
       "      <th>4</th>\n",
       "      <td>28495</td>\n",
       "      <td>1</td>\n",
       "      <td>0</td>\n",
       "      <td>0</td>\n",
       "      <td>0</td>\n",
       "      <td>0</td>\n",
       "      <td>0</td>\n",
       "    </tr>\n",
       "  </tbody>\n",
       "</table>\n",
       "</div>"
      ],
      "text/plain": [
       "    date  country_cn  country_de  country_eu  country_jp  country_uk  \\\n",
       "0  28491           1           0           0           0           0   \n",
       "1  28492           1           0           0           0           0   \n",
       "2  28493           1           0           0           0           0   \n",
       "3  28494           1           0           0           0           0   \n",
       "4  28495           1           0           0           0           0   \n",
       "\n",
       "   country_us  \n",
       "0           0  \n",
       "1           0  \n",
       "2           0  \n",
       "3           0  \n",
       "4           0  "
      ]
     },
     "execution_count": 4,
     "metadata": {},
     "output_type": "execute_result"
    }
   ],
   "source": [
    "X = df2.copy()\n",
    "X = X.drop(\"recession_indicator\", axis=1)\n",
    "X = pd.get_dummies(X, columns=[\"country\"])\n",
    "X.head()"
   ]
  },
  {
   "cell_type": "code",
   "execution_count": 5,
   "metadata": {},
   "outputs": [
    {
     "data": {
      "text/html": [
       "<div>\n",
       "<style scoped>\n",
       "    .dataframe tbody tr th:only-of-type {\n",
       "        vertical-align: middle;\n",
       "    }\n",
       "\n",
       "    .dataframe tbody tr th {\n",
       "        vertical-align: top;\n",
       "    }\n",
       "\n",
       "    .dataframe thead th {\n",
       "        text-align: right;\n",
       "    }\n",
       "</style>\n",
       "<table border=\"1\" class=\"dataframe\">\n",
       "  <thead>\n",
       "    <tr style=\"text-align: right;\">\n",
       "      <th></th>\n",
       "      <th>recession_indicator</th>\n",
       "    </tr>\n",
       "  </thead>\n",
       "  <tbody>\n",
       "    <tr>\n",
       "      <th>0</th>\n",
       "      <td>t</td>\n",
       "    </tr>\n",
       "    <tr>\n",
       "      <th>1</th>\n",
       "      <td>t</td>\n",
       "    </tr>\n",
       "    <tr>\n",
       "      <th>2</th>\n",
       "      <td>t</td>\n",
       "    </tr>\n",
       "    <tr>\n",
       "      <th>3</th>\n",
       "      <td>t</td>\n",
       "    </tr>\n",
       "    <tr>\n",
       "      <th>4</th>\n",
       "      <td>t</td>\n",
       "    </tr>\n",
       "  </tbody>\n",
       "</table>\n",
       "</div>"
      ],
      "text/plain": [
       "  recession_indicator\n",
       "0                   t\n",
       "1                   t\n",
       "2                   t\n",
       "3                   t\n",
       "4                   t"
      ]
     },
     "execution_count": 5,
     "metadata": {},
     "output_type": "execute_result"
    }
   ],
   "source": [
    "y_cols = df2[\"recession_indicator\"] \n",
    "\n",
    "y = pd.DataFrame()\n",
    "\n",
    "y[\"recession_indicator\"] = y_cols\n",
    "y.head()"
   ]
  },
  {
   "cell_type": "code",
   "execution_count": 6,
   "metadata": {},
   "outputs": [
    {
     "data": {
      "text/plain": [
       "f    60090\n",
       "t    46346\n",
       "Name: recession_indicator, dtype: int64"
      ]
     },
     "execution_count": 6,
     "metadata": {},
     "output_type": "execute_result"
    }
   ],
   "source": [
    "y['recession_indicator'].value_counts()"
   ]
  },
  {
   "cell_type": "code",
   "execution_count": 7,
   "metadata": {},
   "outputs": [],
   "source": [
    "# Create X_train, X_test, y_train, y_test\n",
    "from sklearn.model_selection import train_test_split\n",
    "\n",
    "X_train, X_test, y_train, y_test = train_test_split(X, y_cols, random_state=1)"
   ]
  },
  {
   "cell_type": "code",
   "execution_count": 8,
   "metadata": {},
   "outputs": [
    {
     "name": "stdout",
     "output_type": "stream",
     "text": [
      " Logistic regression model accuracy: 0.567\n"
     ]
    }
   ],
   "source": [
    "from sklearn.linear_model import LogisticRegression\n",
    "\n",
    "# Define the logistic regression model\n",
    "log_classifier = LogisticRegression(solver=\"lbfgs\", max_iter=200)\n",
    "\n",
    "# Train the model\n",
    "log_classifier.fit(X_train,y_train)\n",
    "\n",
    "# Evaluate the model\n",
    "y_pred = log_classifier.predict(X_test)\n",
    "print(f\" Logistic regression model accuracy: {accuracy_score(y_test,y_pred):.3f}\")\n",
    "\n"
   ]
  },
  {
   "cell_type": "code",
   "execution_count": 9,
   "metadata": {},
   "outputs": [],
   "source": [
    "# Create a StandardScaler instance\n",
    "scaler = StandardScaler()\n",
    "\n",
    "# Fit the StandardScaler\n",
    "X_scaler = scaler.fit(X_train)\n",
    "\n",
    "# Scale the data\n",
    "X_train_scaled = X_scaler.transform(X_train)\n",
    "X_test_scaled = X_scaler.transform(X_test)"
   ]
  },
  {
   "cell_type": "code",
   "execution_count": 10,
   "metadata": {},
   "outputs": [
    {
     "name": "stdout",
     "output_type": "stream",
     "text": [
      " Random forest predictive accuracy: 0.999\n"
     ]
    }
   ],
   "source": [
    "from sklearn.ensemble import RandomForestClassifier\n",
    "\n",
    "# Create a random forest classifier.\n",
    "rf_model = RandomForestClassifier(n_estimators=128, random_state=78)\n",
    "\n",
    "# Fitting the model\n",
    "rf_model = rf_model.fit(X_train_scaled, y_train)\n",
    "\n",
    "# Evaluate the model\n",
    "rf_y_pred = rf_model.predict(X_test_scaled)\n",
    "print(f\" Random forest predictive accuracy: {accuracy_score(y_test,rf_y_pred):.3f}\")"
   ]
  },
  {
   "cell_type": "code",
   "execution_count": 14,
   "metadata": {},
   "outputs": [
    {
     "name": "stdout",
     "output_type": "stream",
     "text": [
      " decision tree predictive accuracy: 0.999\n"
     ]
    }
   ],
   "source": [
    "from sklearn import tree\n",
    "\n",
    "# Creating the decision tree classifier instance.\n",
    "dt_model = tree.DecisionTreeClassifier()\n",
    "# Fitting the model.\n",
    "dt_model = dt_model.fit(X_train_scaled, y_train)\n",
    "\n",
    "# Making predictions using the testing data.\n",
    "dt_y_pred = dt_model.predict(X_test_scaled)\n",
    "print(f\" Decision tree predictive accuracy: {accuracy_score(y_test,dt_y_pred):.3f}\")"
   ]
  },
  {
   "cell_type": "code",
   "execution_count": null,
   "metadata": {},
   "outputs": [],
   "source": []
  }
 ],
 "metadata": {
  "kernelspec": {
   "display_name": "PythonData",
   "language": "python",
   "name": "pythondata"
  },
  "language_info": {
   "codemirror_mode": {
    "name": "ipython",
    "version": 3
   },
   "file_extension": ".py",
   "mimetype": "text/x-python",
   "name": "python",
   "nbconvert_exporter": "python",
   "pygments_lexer": "ipython3",
   "version": "3.7.7"
  }
 },
 "nbformat": 4,
 "nbformat_minor": 4
}
