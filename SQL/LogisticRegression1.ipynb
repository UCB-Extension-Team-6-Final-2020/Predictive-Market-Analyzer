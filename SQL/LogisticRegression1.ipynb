{
 "cells": [
  {
   "cell_type": "code",
   "execution_count": 49,
   "metadata": {},
   "outputs": [],
   "source": [
    "\n",
    "# matplotlib\n",
    "%matplotlib inline\n",
    "from matplotlib import style\n",
    "style.use('fivethirtyeight')\n",
    "import matplotlib.pyplot as plt\n",
    "\n",
    "# Pandas and Numpy\n",
    "import numpy as np\n",
    "import pandas as pd\n",
    "\n",
    "# Python SQL toolkit and Object Relational Mapper\n",
    "import sqlalchemy\n",
    "from sqlalchemy.ext.automap import automap_base\n",
    "from sqlalchemy.orm import Session\n",
    "from sqlalchemy import create_engine, func\n",
    "import psycopg2"
   ]
  },
  {
   "cell_type": "code",
   "execution_count": 50,
   "metadata": {},
   "outputs": [],
   "source": [
    "#import connection string (youll need to create this)\n",
    "from config import conn\n",
    "\n",
    "# create the engine\n",
    "engine = create_engine(conn)\n",
    "Base = automap_base()\n",
    "\n",
    "# reflect an existing database into a new model\n",
    "Base.prepare(engine, reflect=True)\n",
    "\n",
    "# reflect the tables\n",
    "#Recession_Indicator = Base.classes.recession_indicator_by_day\n",
    "Recession_Indicator = Base.classes.us_recession\n",
    "Historical_Price = Base.classes.historical_price_by_day"
   ]
  },
  {
   "cell_type": "code",
   "execution_count": 32,
   "metadata": {},
   "outputs": [],
   "source": [
    "# Create our session (link) from Python to the DB\n",
    "session = Session(engine)"
   ]
  },
  {
   "cell_type": "code",
   "execution_count": 35,
   "metadata": {},
   "outputs": [
    {
     "data": {
      "text/html": [
       "<div>\n",
       "<style scoped>\n",
       "    .dataframe tbody tr th:only-of-type {\n",
       "        vertical-align: middle;\n",
       "    }\n",
       "\n",
       "    .dataframe tbody tr th {\n",
       "        vertical-align: top;\n",
       "    }\n",
       "\n",
       "    .dataframe thead th {\n",
       "        text-align: right;\n",
       "    }\n",
       "</style>\n",
       "<table border=\"1\" class=\"dataframe\">\n",
       "  <thead>\n",
       "    <tr style=\"text-align: right;\">\n",
       "      <th></th>\n",
       "      <th>date</th>\n",
       "      <th>recession_indicator</th>\n",
       "    </tr>\n",
       "    <tr>\n",
       "      <th>country</th>\n",
       "      <th></th>\n",
       "      <th></th>\n",
       "    </tr>\n",
       "  </thead>\n",
       "  <tbody>\n",
       "    <tr>\n",
       "      <th>us</th>\n",
       "      <td>25569</td>\n",
       "      <td>True</td>\n",
       "    </tr>\n",
       "    <tr>\n",
       "      <th>us</th>\n",
       "      <td>25570</td>\n",
       "      <td>True</td>\n",
       "    </tr>\n",
       "    <tr>\n",
       "      <th>us</th>\n",
       "      <td>25571</td>\n",
       "      <td>True</td>\n",
       "    </tr>\n",
       "    <tr>\n",
       "      <th>us</th>\n",
       "      <td>25572</td>\n",
       "      <td>True</td>\n",
       "    </tr>\n",
       "    <tr>\n",
       "      <th>us</th>\n",
       "      <td>25573</td>\n",
       "      <td>True</td>\n",
       "    </tr>\n",
       "  </tbody>\n",
       "</table>\n",
       "</div>"
      ],
      "text/plain": [
       "          date  recession_indicator\n",
       "country                            \n",
       "us       25569                 True\n",
       "us       25570                 True\n",
       "us       25571                 True\n",
       "us       25572                 True\n",
       "us       25573                 True"
      ]
     },
     "execution_count": 35,
     "metadata": {},
     "output_type": "execute_result"
    }
   ],
   "source": [
    "#create df from Recession_Indicator table\n",
    "results = []\n",
    "\n",
    "results = session.query(Recession_Indicator.date, \\\n",
    "                        Recession_Indicator.recession_indicator, \\\n",
    "                        Recession_Indicator.country)\n",
    "\n",
    "\n",
    "recession_df = pd.DataFrame(results).set_index(['country'])\n",
    "recession_df.head()"
   ]
  },
  {
   "cell_type": "code",
   "execution_count": 34,
   "metadata": {},
   "outputs": [
    {
     "data": {
      "text/html": [
       "<div>\n",
       "<style scoped>\n",
       "    .dataframe tbody tr th:only-of-type {\n",
       "        vertical-align: middle;\n",
       "    }\n",
       "\n",
       "    .dataframe tbody tr th {\n",
       "        vertical-align: top;\n",
       "    }\n",
       "\n",
       "    .dataframe thead th {\n",
       "        text-align: right;\n",
       "    }\n",
       "</style>\n",
       "<table border=\"1\" class=\"dataframe\">\n",
       "  <thead>\n",
       "    <tr style=\"text-align: right;\">\n",
       "      <th></th>\n",
       "      <th></th>\n",
       "      <th>open</th>\n",
       "      <th>high</th>\n",
       "      <th>low</th>\n",
       "      <th>close</th>\n",
       "    </tr>\n",
       "    <tr>\n",
       "      <th>date</th>\n",
       "      <th>ticker</th>\n",
       "      <th></th>\n",
       "      <th></th>\n",
       "      <th></th>\n",
       "      <th></th>\n",
       "    </tr>\n",
       "  </thead>\n",
       "  <tbody>\n",
       "    <tr>\n",
       "      <th>36643</th>\n",
       "      <th>SPY</th>\n",
       "      <td>$143.00</td>\n",
       "      <td>$147.34</td>\n",
       "      <td>$143.00</td>\n",
       "      <td>$146.00</td>\n",
       "    </tr>\n",
       "    <tr>\n",
       "      <th>36644</th>\n",
       "      <th>SPY</th>\n",
       "      <td>$147.00</td>\n",
       "      <td>$147.86</td>\n",
       "      <td>$145.06</td>\n",
       "      <td>$145.09</td>\n",
       "    </tr>\n",
       "    <tr>\n",
       "      <th>36647</th>\n",
       "      <th>SPY</th>\n",
       "      <td>$146.56</td>\n",
       "      <td>$148.48</td>\n",
       "      <td>$145.84</td>\n",
       "      <td>$147.06</td>\n",
       "    </tr>\n",
       "    <tr>\n",
       "      <th>36648</th>\n",
       "      <th>SPY</th>\n",
       "      <td>$145.50</td>\n",
       "      <td>$147.13</td>\n",
       "      <td>$144.13</td>\n",
       "      <td>$144.13</td>\n",
       "    </tr>\n",
       "    <tr>\n",
       "      <th>36649</th>\n",
       "      <th>SPY</th>\n",
       "      <td>$144.00</td>\n",
       "      <td>$144.00</td>\n",
       "      <td>$139.78</td>\n",
       "      <td>$140.75</td>\n",
       "    </tr>\n",
       "  </tbody>\n",
       "</table>\n",
       "</div>"
      ],
      "text/plain": [
       "                 open     high      low    close\n",
       "date  ticker                                    \n",
       "36643 SPY     $143.00  $147.34  $143.00  $146.00\n",
       "36644 SPY     $147.00  $147.86  $145.06  $145.09\n",
       "36647 SPY     $146.56  $148.48  $145.84  $147.06\n",
       "36648 SPY     $145.50  $147.13  $144.13  $144.13\n",
       "36649 SPY     $144.00  $144.00  $139.78  $140.75"
      ]
     },
     "execution_count": 34,
     "metadata": {},
     "output_type": "execute_result"
    }
   ],
   "source": [
    "#create df from Historical_Price table\n",
    "\n",
    "results = []\n",
    "\n",
    "results = session.query(Historical_Price.date, \\\n",
    "                        Historical_Price.open, \\\n",
    "                        Historical_Price.high, \\\n",
    "                        Historical_Price.low, \\\n",
    "                        Historical_Price.close, \\\n",
    "                        Historical_Price.ticker)\n",
    "\n",
    "\n",
    "price_df = pd.DataFrame(results).set_index(['date','ticker'])\n",
    "price_df.head()"
   ]
  },
  {
   "cell_type": "code",
   "execution_count": 37,
   "metadata": {},
   "outputs": [],
   "source": [
    "# Create our features\n",
    "X = recession_df.drop(columns='recession_indicator')\n",
    "\n",
    "# Create our target\n",
    "y = recession_df[\"recession_indicator\"]"
   ]
  },
  {
   "cell_type": "code",
   "execution_count": 39,
   "metadata": {},
   "outputs": [
    {
     "data": {
      "text/plain": [
       "count     18262\n",
       "unique        2\n",
       "top       False\n",
       "freq       9712\n",
       "Name: recession_indicator, dtype: object"
      ]
     },
     "execution_count": 39,
     "metadata": {},
     "output_type": "execute_result"
    }
   ],
   "source": [
    "y.describe()"
   ]
  },
  {
   "cell_type": "code",
   "execution_count": 41,
   "metadata": {},
   "outputs": [
    {
     "data": {
      "text/plain": [
       "Counter({False: 7256, True: 6440})"
      ]
     },
     "execution_count": 41,
     "metadata": {},
     "output_type": "execute_result"
    }
   ],
   "source": [
    "from collections import Counter\n",
    "# Split the X and y into X_train, X_test, y_train, y_test\n",
    "from sklearn.model_selection import train_test_split\n",
    "X_train, X_test, y_train, y_test = train_test_split(X, \n",
    "                                                    y, \n",
    "                                                    random_state=1)\n",
    "Counter(y_train)\n",
    "\n",
    "\n"
   ]
  },
  {
   "cell_type": "code",
   "execution_count": 42,
   "metadata": {},
   "outputs": [
    {
     "name": "stderr",
     "output_type": "stream",
     "text": [
      "Using TensorFlow backend.\n"
     ]
    },
    {
     "data": {
      "text/plain": [
       "BalancedRandomForestClassifier(bootstrap=True, ccp_alpha=0.0, class_weight=None,\n",
       "                               criterion='gini', max_depth=None,\n",
       "                               max_features='auto', max_leaf_nodes=None,\n",
       "                               max_samples=None, min_impurity_decrease=0.0,\n",
       "                               min_samples_leaf=2, min_samples_split=2,\n",
       "                               min_weight_fraction_leaf=0.0, n_estimators=100,\n",
       "                               n_jobs=None, oob_score=False, random_state=1,\n",
       "                               replacement=False, sampling_strategy='auto',\n",
       "                               verbose=0, warm_start=False)"
      ]
     },
     "execution_count": 42,
     "metadata": {},
     "output_type": "execute_result"
    }
   ],
   "source": [
    "# Resample the training data with the RandomOversampler\n",
    "from imblearn.ensemble import BalancedRandomForestClassifier\n",
    "\n",
    "model_1 = BalancedRandomForestClassifier(random_state=1)\n",
    "model_1.fit(X_train, y_train)"
   ]
  },
  {
   "cell_type": "code",
   "execution_count": 44,
   "metadata": {},
   "outputs": [
    {
     "name": "stdout",
     "output_type": "stream",
     "text": [
      "0.9986449665776433\n"
     ]
    }
   ],
   "source": [
    "\n",
    "from sklearn.metrics import balanced_accuracy_score\n",
    "from sklearn.metrics import confusion_matrix\n",
    "from imblearn.metrics import classification_report_imbalanced\n",
    "# Calculated the balanced accuracy score\n",
    "predict_1 = model_1.predict(X_test)\n",
    "bas_1 = balanced_accuracy_score(y_test, predict_1)\n",
    "print(bas_1)"
   ]
  },
  {
   "cell_type": "code",
   "execution_count": 46,
   "metadata": {},
   "outputs": [
    {
     "name": "stdout",
     "output_type": "stream",
     "text": [
      "                    Predicted Recession  Predicted No Recession\n",
      "Actual Recession                   2454                       2\n",
      "Actual NoRecession                    4                    2106\n"
     ]
    }
   ],
   "source": [
    "cm_1 = confusion_matrix(y_test, predict_1)\n",
    "\n",
    "cm_df_1 = pd.DataFrame(cm_1, index=[\"Actual Recession\", \"Actual NoRecession\"], columns=[\"Predicted Recession\", \"Predicted No Recession\"])\n",
    "print(cm_df_1)"
   ]
  },
  {
   "cell_type": "code",
   "execution_count": 47,
   "metadata": {},
   "outputs": [
    {
     "name": "stdout",
     "output_type": "stream",
     "text": [
      "                   pre       rec       spe        f1       geo       iba       sup\n",
      "\n",
      "      False       1.00      1.00      1.00      1.00      1.00      1.00      2456\n",
      "       True       1.00      1.00      1.00      1.00      1.00      1.00      2110\n",
      "\n",
      "avg / total       1.00      1.00      1.00      1.00      1.00      1.00      4566\n",
      "\n"
     ]
    }
   ],
   "source": [
    "# Print the imbalanced classification report\n",
    "from imblearn.metrics import classification_report_imbalanced\n",
    "\n",
    "print(classification_report_imbalanced(y_test, predict_1))"
   ]
  },
  {
   "cell_type": "code",
   "execution_count": 48,
   "metadata": {},
   "outputs": [
    {
     "name": "stdout",
     "output_type": "stream",
     "text": [
      "Balanced Random Forest Classifier Confusion Matrix\n"
     ]
    },
    {
     "data": {
      "text/html": [
       "<div>\n",
       "<style scoped>\n",
       "    .dataframe tbody tr th:only-of-type {\n",
       "        vertical-align: middle;\n",
       "    }\n",
       "\n",
       "    .dataframe tbody tr th {\n",
       "        vertical-align: top;\n",
       "    }\n",
       "\n",
       "    .dataframe thead th {\n",
       "        text-align: right;\n",
       "    }\n",
       "</style>\n",
       "<table border=\"1\" class=\"dataframe\">\n",
       "  <thead>\n",
       "    <tr style=\"text-align: right;\">\n",
       "      <th></th>\n",
       "      <th>Predicted Recession</th>\n",
       "      <th>Predicted No Recession</th>\n",
       "    </tr>\n",
       "  </thead>\n",
       "  <tbody>\n",
       "    <tr>\n",
       "      <th>Actual Recession</th>\n",
       "      <td>2454</td>\n",
       "      <td>2</td>\n",
       "    </tr>\n",
       "    <tr>\n",
       "      <th>Actual NoRecession</th>\n",
       "      <td>4</td>\n",
       "      <td>2106</td>\n",
       "    </tr>\n",
       "  </tbody>\n",
       "</table>\n",
       "</div>"
      ],
      "text/plain": [
       "                    Predicted Recession  Predicted No Recession\n",
       "Actual Recession                   2454                       2\n",
       "Actual NoRecession                    4                    2106"
      ]
     },
     "metadata": {},
     "output_type": "display_data"
    },
    {
     "name": "stdout",
     "output_type": "stream",
     "text": [
      "\n",
      "Balanced Accuracy Score : 0.9986449665776433\n",
      "\n",
      "Imbalanced Classification Report\n",
      "                   pre       rec       spe        f1       geo       iba       sup\n",
      "\n",
      "      False       1.00      1.00      1.00      1.00      1.00      1.00      2456\n",
      "       True       1.00      1.00      1.00      1.00      1.00      1.00      2110\n",
      "\n",
      "avg / total       1.00      1.00      1.00      1.00      1.00      1.00      4566\n",
      "\n"
     ]
    }
   ],
   "source": [
    "# Displaying results\n",
    "\n",
    "print(\"Balanced Random Forest Classifier Confusion Matrix\")\n",
    "display(cm_df_1)\n",
    "print(f\"\\nBalanced Accuracy Score : {bas_1}\")\n",
    "print(\"\\nImbalanced Classification Report\")\n",
    "print(classification_report_imbalanced(y_test, predict_1))"
   ]
  },
  {
   "cell_type": "code",
   "execution_count": null,
   "metadata": {},
   "outputs": [],
   "source": []
  }
 ],
 "metadata": {
  "kernelspec": {
   "display_name": "mlenv",
   "language": "python",
   "name": "mlenv"
  },
  "language_info": {
   "codemirror_mode": {
    "name": "ipython",
    "version": 3
   },
   "file_extension": ".py",
   "mimetype": "text/x-python",
   "name": "python",
   "nbconvert_exporter": "python",
   "pygments_lexer": "ipython3",
   "version": "3.7.7"
  }
 },
 "nbformat": 4,
 "nbformat_minor": 4
}
